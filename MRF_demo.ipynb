{
  "cells": [
    {
      "cell_type": "markdown",
      "metadata": {
        "id": "view-in-github",
        "colab_type": "text"
      },
      "source": [
        "<a href=\"https://colab.research.google.com/github/SophieSchau/MRF_demo_ISMRM2022/blob/main/MRF_demo.ipynb\" target=\"_parent\"><img src=\"https://colab.research.google.com/assets/colab-badge.svg\" alt=\"Open In Colab\"/></a>"
      ]
    },
    {
      "cell_type": "markdown",
      "source": [
        "# MRF processing demo\n",
        "This notebook will demonstrate the processing pipeline used in the abstract *Toward a 1-minute high-resolution brain exam - MR Fingerprinting with ML-synthesized contrasts and fast reconstruction* presented at the 2022 ISMRM Annual meeting in London (program number 53).\n",
        "\n",
        "\n"
      ],
      "metadata": {
        "id": "eoHHhN-eqtmQ"
      }
    },
    {
      "cell_type": "markdown",
      "source": [
        "## Overview\n",
        "This project is aimed at translating highly undrsampled MRF to a clinically feasible tool, by building a robust reconstruction pipeline that is portable between different compute systems (research lab, hospital, high performance computing cluster, collaborators, etc...). To achieve this these core objectives were set:\n",
        "\n",
        "- The pipeline should run smoothly on multiple systems.\n",
        "- The pipeline should be easy to upgrade when the sequence, the reconstruction method, or the synthesis method is changed.\n",
        "- The pipeline should be able to provide an image to send back to the scanner within 5 min.\n",
        "- The pipeline should be able to send a series of images to PACS within ~30min.\n",
        "- The pipeline should run on hardware available in clinical settings (for now, this means an 11GB GPU).\n",
        "\n",
        "This modular MRF processing pipeline includes 4 steps:\n",
        "\n",
        "1.   Download demo data and code \n",
        "2.   Reconstruct and get coil compression from calibration scan\n",
        "3.   Reconstruct MRF (fast subspace basis reconstruction)\n",
        "4.   Synthesize clinical contrasts\n",
        "\n",
        "Each step will be demonstrated here, and documentation on how to run the equivalent Docker/Singularity containers on your own machine will be explained in a final section of this document.\n"
      ],
      "metadata": {
        "id": "HD0Rb98Rj7yC"
      }
    },
    {
      "cell_type": "markdown",
      "source": [
        "## Data and code download \n",
        "*Run the next code block before reading this! The data takes a couple of minutes to download*\n",
        "\n",
        "For this demo we have prepared a dataset consisting of five files:\n",
        "1. `mrf_raw.npy` <- contains MRF kspace data\n",
        "2. `calib_raw.npy` <- contains calibration GRE kspace data\n",
        "3. `calib_nse.npy` <- contains noise measurement from the calibration GRE\n",
        "4. `traj_grp16_inacc2.mat` <- contains the trajectory coordinates for the MRF\n",
        "5. `subspace_basis_grp16.mat` <- contains the temporal basis components for the MRF\n",
        "\n",
        "\n",
        "`mrf_raw.npy`, `calib_raw.npy`, and `calib_nse.npy` have been generated from ScanArchive files, which is the raw data output format used for MRI scanners by GE Healthcare. The conversion was done using containerized code provided by GE Healthcare. Since containers cannot easily be executed in Google Colab we skipped this step in the demo. However, if you want to run the conversion on your own system, you can run the containerized version on your own computer as explained in the final section of this demo.\n",
        "\n",
        "*If your data hasn't downloaded yet, please sing happy birthday to yourself to pass the time, your birthday is soon/was recently anyway!*"
      ],
      "metadata": {
        "id": "6dsuxgGZ9B-V"
      }
    },
    {
      "cell_type": "code",
      "execution_count": null,
      "metadata": {
        "id": "XRlFFm41N3nx"
      },
      "outputs": [],
      "source": [
        "%%bash\n",
        "\n",
        "mkdir tmp\n",
        "cd tmp\n",
        "wget -q -O data.zip -L https://stanfordmedicine.box.com/shared/static/61tx7yzaxrcw4ktrlpebwn1tom5urx6s\n",
        "unzip -q data.zip\n",
        "cd /content/\n",
        "mv /content/tmp/MRF_Demo_ISMRM2022 /content/data\n",
        "rm -rf tmp\n",
        "mkdir /content/result\n",
        "mkdir /content/result/synth/"
      ]
    },
    {
      "cell_type": "code",
      "execution_count": null,
      "metadata": {
        "id": "eJQYnaEfh7pw"
      },
      "outputs": [],
      "source": [
        "!git clone https://github.com/SophieSchau/MRF_demo_ISMRM2022.git\n",
        "!pip install git+https://github.com/mikgroup/sigpy.git@master"
      ]
    },
    {
      "cell_type": "code",
      "source": [
        "%%bash\n",
        "\n",
        "cd /content/MRF_demo_ISMRM2022/src/01_calib/\n",
        "\n",
        "python3 main.py --ksp /content/data/calib_raw.npy \\\n",
        "                --nse /content/data/calib_nse.npy \\\n",
        "                --nrc 40 --nsv 10 \\\n",
        "                --ccm /content/result/ccm.npy"
      ],
      "metadata": {
        "id": "44XNYGY1mlxI"
      },
      "execution_count": null,
      "outputs": []
    },
    {
      "cell_type": "code",
      "execution_count": null,
      "metadata": {
        "id": "t59cQ2mrOsJu"
      },
      "outputs": [],
      "source": [
        "%%bash\n",
        "\n",
        "cd /content/MRF_demo_ISMRM2022/src/02_recon/\n",
        "\n",
        "python3 main.py -c --phi /content/data/subspace_basis_grp16.mat \\\n",
        "                   --ccm /content/result/ccm.npy \\\n",
        "                   --ksp /content/data/mrf_raw.npy \\\n",
        "                   --trj /content/data/traj_grp16_inacc2.mat \\\n",
        "                   --mtx 256 --ptt 10 --dev 0 --rnk 3 --mit 40 --nco 3 --akp False \\\n",
        "                   --res /content/result/fast.npy"
      ]
    },
    {
      "cell_type": "code",
      "source": [
        "%%bash\n",
        "cd /content/MRF_demo_ISMRM2022/src/03_synth/\n",
        "\n",
        "python3 main.py  --inp /content/result/fast.npy \\\n",
        "                 --wgt /content/MRF_demo_ISMRM2022/src/03_synth/checkpoints/v1_InitCG/800_net_G.pth \\\n",
        "                 --sth /content/result/synth \\\n",
        "                 --idx 0 1 2 3 4"
      ],
      "metadata": {
        "id": "xNY7aVzAkqOQ"
      },
      "execution_count": null,
      "outputs": []
    },
    {
      "cell_type": "code",
      "source": [
        "import numpy as np\n",
        "import matplotlib.pyplot as plt\n",
        "%matplotlib inline\n",
        "\n",
        "fast = np.load('/content/result/fast.npy')\n",
        "synth = np.load('/content/result/synth/t1mprage.npy')\n",
        "plt.imshow(np.abs(fast[:,:,128,0]))\n",
        "plt.show()\n",
        "plt.imshow(np.abs(synth[:,:,128]))"
      ],
      "metadata": {
        "id": "nxhARm_xPrSz"
      },
      "execution_count": null,
      "outputs": []
    }
  ],
  "metadata": {
    "colab": {
      "collapsed_sections": [],
      "name": "MRF_demo.ipynb",
      "private_outputs": true,
      "provenance": [],
      "toc_visible": true,
      "authorship_tag": "ABX9TyPyKT8BTQKsZNdutshUxuxQ",
      "include_colab_link": true
    },
    "kernelspec": {
      "display_name": "Python 3",
      "name": "python3"
    },
    "language_info": {
      "name": "python"
    },
    "accelerator": "GPU"
  },
  "nbformat": 4,
  "nbformat_minor": 0
}