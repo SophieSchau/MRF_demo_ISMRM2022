{
  "cells": [
    {
      "cell_type": "markdown",
      "metadata": {
        "id": "view-in-github",
        "colab_type": "text"
      },
      "source": [
        "<a href=\"https://colab.research.google.com/github/SophieSchau/MRF_demo_ISMRM2022/blob/main/MRF_demo.ipynb\" target=\"_parent\"><img src=\"https://colab.research.google.com/assets/colab-badge.svg\" alt=\"Open In Colab\"/></a>"
      ]
    },
    {
      "cell_type": "markdown",
      "source": [
        "# MRF processing demo\n",
        "## Overview\n",
        "## Read data\n",
        "\n",
        "## Reconstruct and get coil compression from calibration scan\n",
        "\n",
        "## Reconstruct MRF (fast subspace basis reconstruction)\n",
        "\n",
        "## Synthesize clinical contrasts\n",
        "\n"
      ],
      "metadata": {
        "id": "eoHHhN-eqtmQ"
      }
    },
    {
      "cell_type": "markdown",
      "source": [
        "## Install singularity\n",
        "Singularity is a tool for creating containerized code (similar to Docker). Containers makes it easy to share code, as the computing environment is automatically set up and the program will not interfere with other programs on someone else's computer."
      ],
      "metadata": {
        "id": "l3F_qHlJr6Y-"
      }
    },
    {
      "cell_type": "code",
      "source": [
        "%%bash\n",
        "MINICONDA_INSTALLER_SCRIPT=Miniconda3-4.5.4-Linux-x86_64.sh\n",
        "MINICONDA_PREFIX=/usr/local\n",
        "wget -qq https://repo.continuum.io/miniconda/$MINICONDA_INSTALLER_SCRIPT\n",
        "chmod +x $MINICONDA_INSTALLER_SCRIPT\n",
        "./$MINICONDA_INSTALLER_SCRIPT -b -f -p $MINICONDA_PREFIX"
      ],
      "metadata": {
        "id": "7tVjOtC4UBRx"
      },
      "execution_count": null,
      "outputs": []
    },
    {
      "cell_type": "code",
      "execution_count": null,
      "metadata": {
        "id": "io3Hv_x5Ns7B"
      },
      "outputs": [],
      "source": [
        "!conda install -y -c conda-forge singularity\n",
        "!which singularity\n",
        "!singularity version"
      ]
    },
    {
      "cell_type": "markdown",
      "source": [
        ""
      ],
      "metadata": {
        "id": "Dr3PCvBTqs3_"
      }
    },
    {
      "cell_type": "code",
      "execution_count": null,
      "metadata": {
        "id": "XRlFFm41N3nx"
      },
      "outputs": [],
      "source": [
        "!wget -L https://stanfordmedicine.box.com/s/whppko8mhvnaogs1ssd9wdm68kj39w2r -O subspace.mat\n",
        "!ls"
      ]
    },
    {
      "cell_type": "code",
      "execution_count": null,
      "metadata": {
        "id": "eJQYnaEfh7pw"
      },
      "outputs": [],
      "source": [
        ""
      ]
    },
    {
      "cell_type": "code",
      "execution_count": null,
      "metadata": {
        "id": "nSByv1r1OocE"
      },
      "outputs": [],
      "source": [
        ""
      ]
    },
    {
      "cell_type": "code",
      "execution_count": null,
      "metadata": {
        "id": "t59cQ2mrOsJu"
      },
      "outputs": [],
      "source": [
        ""
      ]
    }
  ],
  "metadata": {
    "colab": {
      "collapsed_sections": [],
      "name": "MRF_demo.ipynb",
      "private_outputs": true,
      "provenance": [],
      "authorship_tag": "ABX9TyNiQGm/7oJp50Ip+HugG8E+",
      "include_colab_link": true
    },
    "kernelspec": {
      "display_name": "Python 3",
      "name": "python3"
    },
    "language_info": {
      "name": "python"
    },
    "accelerator": "GPU"
  },
  "nbformat": 4,
  "nbformat_minor": 0
}